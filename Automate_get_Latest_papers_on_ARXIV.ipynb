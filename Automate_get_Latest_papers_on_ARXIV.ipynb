{
  "nbformat": 4,
  "nbformat_minor": 0,
  "metadata": {
    "colab": {
      "provenance": [],
      "authorship_tag": "ABX9TyN7nElFGvdLbAeI7AJNnoRw"
    },
    "kernelspec": {
      "name": "python3",
      "display_name": "Python 3"
    },
    "language_info": {
      "name": "python"
    }
  },
  "cells": [
    {
      "cell_type": "markdown",
      "source": [
        "### automate the fetching of the most recent papers in arxiv on a specific topic (search query)  and save the information to a csv\n",
        "\n",
        "Arxiv api : https://info.arxiv.org/help/api/basics.html#quickstart"
      ],
      "metadata": {
        "id": "WLLPZH-LgbPZ"
      }
    },
    {
      "cell_type": "code",
      "source": [
        "#install feedparser to parse the arxiv api response\n",
        "!pip install feedparser"
      ],
      "metadata": {
        "id": "OnMMuMys4Nes",
        "outputId": "df1f677d-26ea-4361-fb6d-c11065895d6e",
        "colab": {
          "base_uri": "https://localhost:8080/"
        }
      },
      "execution_count": 1,
      "outputs": [
        {
          "output_type": "stream",
          "name": "stdout",
          "text": [
            "Requirement already satisfied: feedparser in /usr/local/lib/python3.11/dist-packages (6.0.11)\n",
            "Requirement already satisfied: sgmllib3k in /usr/local/lib/python3.11/dist-packages (from feedparser) (1.0.0)\n"
          ]
        }
      ]
    },
    {
      "cell_type": "code",
      "source": [
        "query = \"gen+ai\""
      ],
      "metadata": {
        "id": "inwuoleDobxR"
      },
      "execution_count": 2,
      "outputs": []
    },
    {
      "cell_type": "markdown",
      "source": [
        "### query the api with 'gen+ai' , get 20 results"
      ],
      "metadata": {
        "id": "AnnWiD8vg9sh"
      }
    },
    {
      "cell_type": "code",
      "execution_count": 3,
      "metadata": {
        "id": "frxvu04K277A"
      },
      "outputs": [],
      "source": [
        "import feedparser\n",
        "import pandas as pd\n",
        "\n",
        "# Define search parameters\n",
        "base_url = \"http://export.arxiv.org/api/query?\"\n",
        "\n",
        "params = {\n",
        "    \"search_query\": f\"all:{query}\",\n",
        "    \"start\": 0,\n",
        "    \"max_results\": 20,\n",
        "    \"sortBy\": \"submittedDate\",\n",
        "    \"sortOrder\": \"descending\"\n",
        "}\n",
        "\n",
        "# Construct the full query URL\n",
        "query_url = (\n",
        "    f\"{base_url}search_query={params['search_query']}\"\n",
        "    f\"&start={params['start']}&max_results={params['max_results']}\"\n",
        "    f\"&sortBy={params['sortBy']}&sortOrder={params['sortOrder']}\"\n",
        ")\n",
        "\n",
        "# Parse the arXiv feed\n",
        "feed = feedparser.parse(query_url)\n",
        "\n",
        "\n"
      ]
    },
    {
      "cell_type": "markdown",
      "source": [
        "inspect the response to find appropriate fileds to save"
      ],
      "metadata": {
        "id": "FOZjqiePpdnM"
      }
    },
    {
      "cell_type": "code",
      "source": [
        "type(feed)\n"
      ],
      "metadata": {
        "id": "YuBYb6k2W37X",
        "outputId": "c68b51b9-de68-431e-d9d8-8c45094b1923",
        "colab": {
          "base_uri": "https://localhost:8080/"
        }
      },
      "execution_count": 4,
      "outputs": [
        {
          "output_type": "execute_result",
          "data": {
            "text/plain": [
              "feedparser.util.FeedParserDict"
            ]
          },
          "metadata": {},
          "execution_count": 4
        }
      ]
    },
    {
      "cell_type": "code",
      "source": [
        "list(feed.keys())"
      ],
      "metadata": {
        "id": "5XaYgv2hXqyq",
        "outputId": "a8be4db2-a0b7-4e97-f388-3e214d623390",
        "colab": {
          "base_uri": "https://localhost:8080/"
        }
      },
      "execution_count": 5,
      "outputs": [
        {
          "output_type": "execute_result",
          "data": {
            "text/plain": [
              "['bozo',\n",
              " 'entries',\n",
              " 'feed',\n",
              " 'headers',\n",
              " 'href',\n",
              " 'status',\n",
              " 'encoding',\n",
              " 'version',\n",
              " 'namespaces']"
            ]
          },
          "metadata": {},
          "execution_count": 5
        }
      ]
    },
    {
      "cell_type": "code",
      "source": [
        "type(feed.entries)"
      ],
      "metadata": {
        "id": "qWYFpwJHXuYj",
        "outputId": "d153842f-da43-444b-af02-4ab4f9b5dfc9",
        "colab": {
          "base_uri": "https://localhost:8080/"
        }
      },
      "execution_count": 6,
      "outputs": [
        {
          "output_type": "execute_result",
          "data": {
            "text/plain": [
              "list"
            ]
          },
          "metadata": {},
          "execution_count": 6
        }
      ]
    },
    {
      "cell_type": "code",
      "source": [
        "feed.entries[0]"
      ],
      "metadata": {
        "id": "O-HE896wX_ZW",
        "outputId": "ebb251ba-f57d-486e-e48e-eb57c8f0bdec",
        "colab": {
          "base_uri": "https://localhost:8080/"
        }
      },
      "execution_count": 7,
      "outputs": [
        {
          "output_type": "execute_result",
          "data": {
            "text/plain": [
              "{'id': 'http://arxiv.org/abs/2502.14865v1',\n",
              " 'guidislink': True,\n",
              " 'link': 'http://arxiv.org/abs/2502.14865v1',\n",
              " 'updated': '2025-02-20T18:59:51Z',\n",
              " 'updated_parsed': time.struct_time(tm_year=2025, tm_mon=2, tm_mday=20, tm_hour=18, tm_min=59, tm_sec=51, tm_wday=3, tm_yday=51, tm_isdst=0),\n",
              " 'published': '2025-02-20T18:59:51Z',\n",
              " 'published_parsed': time.struct_time(tm_year=2025, tm_mon=2, tm_mday=20, tm_hour=18, tm_min=59, tm_sec=51, tm_wday=3, tm_yday=51, tm_isdst=0),\n",
              " 'title': 'Time Travel: A Comprehensive Benchmark to Evaluate LMMs on Historical\\n  and Cultural Artifacts',\n",
              " 'title_detail': {'type': 'text/plain',\n",
              "  'language': None,\n",
              "  'base': 'http://export.arxiv.org/api/query?search_query=all:gen+ai&start=0&max_results=20&sortBy=submittedDate&sortOrder=descending',\n",
              "  'value': 'Time Travel: A Comprehensive Benchmark to Evaluate LMMs on Historical\\n  and Cultural Artifacts'},\n",
              " 'summary': \"Understanding historical and cultural artifacts demands human expertise and\\nadvanced computational techniques, yet the process remains complex and\\ntime-intensive. While large multimodal models offer promising support, their\\nevaluation and improvement require a standardized benchmark. To address this,\\nwe introduce TimeTravel, a benchmark of 10,250 expert-verified samples spanning\\n266 distinct cultures across 10 major historical regions. Designed for\\nAI-driven analysis of manuscripts, artworks, inscriptions, and archaeological\\ndiscoveries, TimeTravel provides a structured dataset and robust evaluation\\nframework to assess AI models' capabilities in classification, interpretation,\\nand historical comprehension. By integrating AI with historical research,\\nTimeTravel fosters AI-powered tools for historians, archaeologists,\\nresearchers, and cultural tourists to extract valuable insights while ensuring\\ntechnology contributes meaningfully to historical discovery and cultural\\nheritage preservation. We evaluate contemporary AI models on TimeTravel,\\nhighlighting their strengths and identifying areas for improvement. Our goal is\\nto establish AI as a reliable partner in preserving cultural heritage, ensuring\\nthat technological advancements contribute meaningfully to historical\\ndiscovery. Our code is available at:\\n\\\\url{https://github.com/mbzuai-oryx/TimeTravel}.\",\n",
              " 'summary_detail': {'type': 'text/plain',\n",
              "  'language': None,\n",
              "  'base': 'http://export.arxiv.org/api/query?search_query=all:gen+ai&start=0&max_results=20&sortBy=submittedDate&sortOrder=descending',\n",
              "  'value': \"Understanding historical and cultural artifacts demands human expertise and\\nadvanced computational techniques, yet the process remains complex and\\ntime-intensive. While large multimodal models offer promising support, their\\nevaluation and improvement require a standardized benchmark. To address this,\\nwe introduce TimeTravel, a benchmark of 10,250 expert-verified samples spanning\\n266 distinct cultures across 10 major historical regions. Designed for\\nAI-driven analysis of manuscripts, artworks, inscriptions, and archaeological\\ndiscoveries, TimeTravel provides a structured dataset and robust evaluation\\nframework to assess AI models' capabilities in classification, interpretation,\\nand historical comprehension. By integrating AI with historical research,\\nTimeTravel fosters AI-powered tools for historians, archaeologists,\\nresearchers, and cultural tourists to extract valuable insights while ensuring\\ntechnology contributes meaningfully to historical discovery and cultural\\nheritage preservation. We evaluate contemporary AI models on TimeTravel,\\nhighlighting their strengths and identifying areas for improvement. Our goal is\\nto establish AI as a reliable partner in preserving cultural heritage, ensuring\\nthat technological advancements contribute meaningfully to historical\\ndiscovery. Our code is available at:\\n\\\\url{https://github.com/mbzuai-oryx/TimeTravel}.\"},\n",
              " 'authors': [{'name': 'Sara Ghaboura'},\n",
              "  {'name': 'Ketan More'},\n",
              "  {'name': 'Ritesh Thawkar'},\n",
              "  {'name': 'Wafa Alghallabi'},\n",
              "  {'name': 'Omkar Thawakar'},\n",
              "  {'name': 'Fahad Shahbaz Khan'},\n",
              "  {'name': 'Hisham Cholakkal'},\n",
              "  {'name': 'Salman Khan'},\n",
              "  {'name': 'Rao Muhammad Anwer'}],\n",
              " 'author_detail': {'name': 'Rao Muhammad Anwer'},\n",
              " 'author': 'Rao Muhammad Anwer',\n",
              " 'arxiv_comment': '4 pages, 6 figures',\n",
              " 'links': [{'href': 'http://arxiv.org/abs/2502.14865v1',\n",
              "   'rel': 'alternate',\n",
              "   'type': 'text/html'},\n",
              "  {'title': 'pdf',\n",
              "   'href': 'http://arxiv.org/pdf/2502.14865v1',\n",
              "   'rel': 'related',\n",
              "   'type': 'application/pdf'}],\n",
              " 'arxiv_primary_category': {'term': 'cs.CV',\n",
              "  'scheme': 'http://arxiv.org/schemas/atom'},\n",
              " 'tags': [{'term': 'cs.CV',\n",
              "   'scheme': 'http://arxiv.org/schemas/atom',\n",
              "   'label': None},\n",
              "  {'term': 'cs.LG', 'scheme': 'http://arxiv.org/schemas/atom', 'label': None}]}"
            ]
          },
          "metadata": {},
          "execution_count": 7
        }
      ]
    },
    {
      "cell_type": "code",
      "source": [
        "type(feed.entries[0])"
      ],
      "metadata": {
        "id": "RDmkLNBn5F5m",
        "outputId": "68b68023-2cf8-4eee-a7c7-4eb3ee9089f3",
        "colab": {
          "base_uri": "https://localhost:8080/"
        }
      },
      "execution_count": 8,
      "outputs": [
        {
          "output_type": "execute_result",
          "data": {
            "text/plain": [
              "feedparser.util.FeedParserDict"
            ]
          },
          "metadata": {},
          "execution_count": 8
        }
      ]
    },
    {
      "cell_type": "code",
      "source": [
        "# print each key value pair in feed.entries[0]\n",
        "\n",
        "for key, value in feed.entries[0].items():\n",
        "  print(f\"{key}: {value}\")\n"
      ],
      "metadata": {
        "id": "rO9UHc-kfmYe",
        "outputId": "74b02513-3fe0-4bb7-c16a-b1624f78f168",
        "colab": {
          "base_uri": "https://localhost:8080/"
        }
      },
      "execution_count": 9,
      "outputs": [
        {
          "output_type": "stream",
          "name": "stdout",
          "text": [
            "id: http://arxiv.org/abs/2502.14865v1\n",
            "guidislink: True\n",
            "link: http://arxiv.org/abs/2502.14865v1\n",
            "updated: 2025-02-20T18:59:51Z\n",
            "updated_parsed: time.struct_time(tm_year=2025, tm_mon=2, tm_mday=20, tm_hour=18, tm_min=59, tm_sec=51, tm_wday=3, tm_yday=51, tm_isdst=0)\n",
            "published: 2025-02-20T18:59:51Z\n",
            "published_parsed: time.struct_time(tm_year=2025, tm_mon=2, tm_mday=20, tm_hour=18, tm_min=59, tm_sec=51, tm_wday=3, tm_yday=51, tm_isdst=0)\n",
            "title: Time Travel: A Comprehensive Benchmark to Evaluate LMMs on Historical\n",
            "  and Cultural Artifacts\n",
            "title_detail: {'type': 'text/plain', 'language': None, 'base': 'http://export.arxiv.org/api/query?search_query=all:gen+ai&start=0&max_results=20&sortBy=submittedDate&sortOrder=descending', 'value': 'Time Travel: A Comprehensive Benchmark to Evaluate LMMs on Historical\\n  and Cultural Artifacts'}\n",
            "summary: Understanding historical and cultural artifacts demands human expertise and\n",
            "advanced computational techniques, yet the process remains complex and\n",
            "time-intensive. While large multimodal models offer promising support, their\n",
            "evaluation and improvement require a standardized benchmark. To address this,\n",
            "we introduce TimeTravel, a benchmark of 10,250 expert-verified samples spanning\n",
            "266 distinct cultures across 10 major historical regions. Designed for\n",
            "AI-driven analysis of manuscripts, artworks, inscriptions, and archaeological\n",
            "discoveries, TimeTravel provides a structured dataset and robust evaluation\n",
            "framework to assess AI models' capabilities in classification, interpretation,\n",
            "and historical comprehension. By integrating AI with historical research,\n",
            "TimeTravel fosters AI-powered tools for historians, archaeologists,\n",
            "researchers, and cultural tourists to extract valuable insights while ensuring\n",
            "technology contributes meaningfully to historical discovery and cultural\n",
            "heritage preservation. We evaluate contemporary AI models on TimeTravel,\n",
            "highlighting their strengths and identifying areas for improvement. Our goal is\n",
            "to establish AI as a reliable partner in preserving cultural heritage, ensuring\n",
            "that technological advancements contribute meaningfully to historical\n",
            "discovery. Our code is available at:\n",
            "\\url{https://github.com/mbzuai-oryx/TimeTravel}.\n",
            "summary_detail: {'type': 'text/plain', 'language': None, 'base': 'http://export.arxiv.org/api/query?search_query=all:gen+ai&start=0&max_results=20&sortBy=submittedDate&sortOrder=descending', 'value': \"Understanding historical and cultural artifacts demands human expertise and\\nadvanced computational techniques, yet the process remains complex and\\ntime-intensive. While large multimodal models offer promising support, their\\nevaluation and improvement require a standardized benchmark. To address this,\\nwe introduce TimeTravel, a benchmark of 10,250 expert-verified samples spanning\\n266 distinct cultures across 10 major historical regions. Designed for\\nAI-driven analysis of manuscripts, artworks, inscriptions, and archaeological\\ndiscoveries, TimeTravel provides a structured dataset and robust evaluation\\nframework to assess AI models' capabilities in classification, interpretation,\\nand historical comprehension. By integrating AI with historical research,\\nTimeTravel fosters AI-powered tools for historians, archaeologists,\\nresearchers, and cultural tourists to extract valuable insights while ensuring\\ntechnology contributes meaningfully to historical discovery and cultural\\nheritage preservation. We evaluate contemporary AI models on TimeTravel,\\nhighlighting their strengths and identifying areas for improvement. Our goal is\\nto establish AI as a reliable partner in preserving cultural heritage, ensuring\\nthat technological advancements contribute meaningfully to historical\\ndiscovery. Our code is available at:\\n\\\\url{https://github.com/mbzuai-oryx/TimeTravel}.\"}\n",
            "authors: [{'name': 'Sara Ghaboura'}, {'name': 'Ketan More'}, {'name': 'Ritesh Thawkar'}, {'name': 'Wafa Alghallabi'}, {'name': 'Omkar Thawakar'}, {'name': 'Fahad Shahbaz Khan'}, {'name': 'Hisham Cholakkal'}, {'name': 'Salman Khan'}, {'name': 'Rao Muhammad Anwer'}]\n",
            "author_detail: {'name': 'Rao Muhammad Anwer'}\n",
            "author: Rao Muhammad Anwer\n",
            "arxiv_comment: 4 pages, 6 figures\n",
            "links: [{'href': 'http://arxiv.org/abs/2502.14865v1', 'rel': 'alternate', 'type': 'text/html'}, {'title': 'pdf', 'href': 'http://arxiv.org/pdf/2502.14865v1', 'rel': 'related', 'type': 'application/pdf'}]\n",
            "arxiv_primary_category: {'term': 'cs.CV', 'scheme': 'http://arxiv.org/schemas/atom'}\n",
            "tags: [{'term': 'cs.CV', 'scheme': 'http://arxiv.org/schemas/atom', 'label': None}, {'term': 'cs.LG', 'scheme': 'http://arxiv.org/schemas/atom', 'label': None}]\n"
          ]
        }
      ]
    },
    {
      "cell_type": "markdown",
      "source": [
        "### pick title, authors , abstract ,summary ,  paper_url (link), pdf_url (link to pdf) , published date for saving to csv"
      ],
      "metadata": {
        "id": "SZoThgQ5gEFG"
      }
    },
    {
      "cell_type": "code",
      "source": [
        "data = []\n",
        "for entry in feed.entries:\n",
        "    title = entry.title.strip()\n",
        "    authors = \", \".join(author.name for author in entry.authors)\n",
        "    abstract = entry.summary.strip()\n",
        "    summary = entry.summary.strip()\n",
        "    paper_url = entry.link\n",
        "    # Create PDF URL by replacing 'abs' with 'pdf' and appending .pdf\n",
        "    pdf_url = entry.id.replace(\"abs\", \"pdf\") + \".pdf\"\n",
        "    published = entry.published  # publication date as string\n",
        "\n",
        "    data.append({\n",
        "        \"title\": title,\n",
        "        \"authors\": authors,\n",
        "        \"abstract\": abstract,\n",
        "        \"summary\":summary,\n",
        "        \"paper_url\": paper_url,\n",
        "        \"pdf_url\": pdf_url,\n",
        "        \"date\": published\n",
        "    })\n",
        "\n"
      ],
      "metadata": {
        "id": "vfWeB_Ln5CKG"
      },
      "execution_count": 10,
      "outputs": []
    },
    {
      "cell_type": "markdown",
      "source": [
        "add these records to a dataframe"
      ],
      "metadata": {
        "id": "L-DKQXvMo34G"
      }
    },
    {
      "cell_type": "code",
      "source": [
        "# Convert to DataFrame and convert date field to datetime\n",
        "df = pd.DataFrame(data)\n",
        "df[\"date\"] = pd.to_datetime(df[\"date\"])\n",
        "\n",
        "# Sort the DataFrame by date (most recent first)\n",
        "df_sorted = df.sort_values(by=\"date\", ascending=False)\n",
        "\n"
      ],
      "metadata": {
        "id": "4xQlfW2qo3Fg"
      },
      "execution_count": 11,
      "outputs": []
    },
    {
      "cell_type": "code",
      "source": [
        "\n",
        "# Save the sorted DataFrame to a CSV file\n",
        "csv_filename = f\"latest_arxiv_research_papers_on_{query}.csv\"\n",
        "df_sorted.to_csv(csv_filename, index=False)\n",
        "\n",
        "print(f\"CSV file '{csv_filename}' created successfully with {len(df_sorted)} papers.\")"
      ],
      "metadata": {
        "id": "j6clL5HepIx0",
        "outputId": "5027f1d9-df2f-44a9-aca1-8969d7a82aa4",
        "colab": {
          "base_uri": "https://localhost:8080/"
        }
      },
      "execution_count": 13,
      "outputs": [
        {
          "output_type": "stream",
          "name": "stdout",
          "text": [
            "CSV file 'latest_arxiv_research_papers_on_gen+ai.csv' created successfully with 20 papers.\n"
          ]
        }
      ]
    }
  ]
}